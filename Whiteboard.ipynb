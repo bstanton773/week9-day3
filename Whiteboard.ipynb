{
 "cells": [
  {
   "cell_type": "code",
   "execution_count": 1,
   "metadata": {},
   "outputs": [],
   "source": [
    "def is_harshad(num):\n",
    "    total = sum([int(digit) for digit in str(num)])\n",
    "    return num % total == 0\n",
    "\n",
    "def rthn_between(a, b):\n",
    "    output = []\n",
    "    for i in range(a, b+1):\n",
    "        x = i\n",
    "        add_to_output = True\n",
    "        while len(str(x)) > 1:\n",
    "            if not is_harshad(x):\n",
    "                add_to_output = False\n",
    "                break\n",
    "            x = int(str(x)[:-1])\n",
    "        if add_to_output and len(str(i)) > 1:\n",
    "            output.append(i)\n",
    "            \n",
    "    return output"
   ]
  },
  {
   "cell_type": "code",
   "execution_count": 2,
   "metadata": {},
   "outputs": [
    {
     "name": "stdout",
     "output_type": "stream",
     "text": [
      "[10, 12, 18, 20]\n",
      "[30, 36, 40, 42, 45, 48, 50, 54, 60, 63, 70, 72, 80, 81, 84, 90, 100]\n",
      "[90, 100, 102, 108, 120, 126, 180, 200]\n",
      "[200, 201, 204, 207, 209, 210]\n",
      "[1000, 1002, 1008, 1020, 1026, 1080, 1088, 1200, 1204, 1206, 1260, 1800, 2000]\n",
      "[]\n",
      "[9000004000000, 9000004000008]\n"
     ]
    }
   ],
   "source": [
    "print(rthn_between(0, 20)) # [10, 12, 18, 20]\n",
    "print(rthn_between(30, 100)) # [30, 36, 40, 42, 45, 48, 50, 54, 60, 63, 70, 72, 80, 81, 84, 90, 100]\n",
    "print(rthn_between(90, 200)) # [90, 100, 102, 108, 120, 126, 180, 200]\n",
    "print(rthn_between(200, 210)) # [200, 201, 204, 207, 209, 210]\n",
    "print(rthn_between(1000, 2000)) # [1000, 1002, 1008, 1020, 1026, 1080, 1088, 1200, 1204, 1206, 1260, 1800, 2000]\n",
    "print(rthn_between(2200, 2300)) # []\n",
    "print(rthn_between(9000002182976, 9000195371842)) # [9000004000000, 9000004000008]"
   ]
  },
  {
   "cell_type": "code",
   "execution_count": 3,
   "metadata": {},
   "outputs": [],
   "source": [
    "def rthn_between2(a, b):\n",
    "    seen_nums = {}\n",
    "    output = []\n",
    "    def is_harshad(num):\n",
    "        if num in seen_nums:\n",
    "            return seen_nums[num]\n",
    "        total = sum([int(digit) for digit in str(num)])\n",
    "        we_good = num % total == 0\n",
    "        seen_nums[num] = we_good\n",
    "        return we_good\n",
    "    for i in range(a, b+1):\n",
    "        x = i\n",
    "        add_to_output = True\n",
    "        while len(str(x)) > 1:\n",
    "            if not is_harshad(x):\n",
    "                add_to_output = False\n",
    "                break\n",
    "            x = int(str(x)[:-1])\n",
    "        if add_to_output and len(str(i)) > 1:\n",
    "            output.append(i)\n",
    "            \n",
    "    return output"
   ]
  },
  {
   "cell_type": "code",
   "execution_count": 4,
   "metadata": {},
   "outputs": [
    {
     "name": "stdout",
     "output_type": "stream",
     "text": [
      "[10, 12, 18, 20]\n",
      "[30, 36, 40, 42, 45, 48, 50, 54, 60, 63, 70, 72, 80, 81, 84, 90, 100]\n",
      "[90, 100, 102, 108, 120, 126, 180, 200]\n",
      "[200, 201, 204, 207, 209, 210]\n",
      "[1000, 1002, 1008, 1020, 1026, 1080, 1088, 1200, 1204, 1206, 1260, 1800, 2000]\n",
      "[]\n",
      "[9000004000000, 9000004000008]\n"
     ]
    }
   ],
   "source": [
    "print(rthn_between2(0, 20)) # [10, 12, 18, 20]\n",
    "print(rthn_between2(30, 100)) # [30, 36, 40, 42, 45, 48, 50, 54, 60, 63, 70, 72, 80, 81, 84, 90, 100]\n",
    "print(rthn_between2(90, 200)) # [90, 100, 102, 108, 120, 126, 180, 200]\n",
    "print(rthn_between2(200, 210)) # [200, 201, 204, 207, 209, 210]\n",
    "print(rthn_between2(1000, 2000)) # [1000, 1002, 1008, 1020, 1026, 1080, 1088, 1200, 1204, 1206, 1260, 1800, 2000]\n",
    "print(rthn_between2(2200, 2300)) # []\n",
    "print(rthn_between2(9000002182976, 9000195371842)) # [9000004000000, 9000004000008]"
   ]
  },
  {
   "cell_type": "code",
   "execution_count": null,
   "metadata": {},
   "outputs": [],
   "source": []
  }
 ],
 "metadata": {
  "kernelspec": {
   "display_name": "Python 3",
   "language": "python",
   "name": "python3"
  },
  "language_info": {
   "codemirror_mode": {
    "name": "ipython",
    "version": 3
   },
   "file_extension": ".py",
   "mimetype": "text/x-python",
   "name": "python",
   "nbconvert_exporter": "python",
   "pygments_lexer": "ipython3",
   "version": "3.8.5"
  }
 },
 "nbformat": 4,
 "nbformat_minor": 4
}
